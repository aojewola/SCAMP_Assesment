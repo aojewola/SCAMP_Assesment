{
 "cells": [
  {
   "cell_type": "code",
   "execution_count": 69,
   "metadata": {},
   "outputs": [
    {
     "name": "stdout",
     "output_type": "stream",
     "text": [
      "0 , 1 , 1 , 2 , 3 , 5 , 8 , 13 , 21 , 34 , 55 , 89 , 144 , 233 , 377 , 610 , 987 , 1597 , 2584 , 4181 , 6765 , 10946 , "
     ]
    },
    {
     "data": {
      "text/plain": [
       "10946"
      ]
     },
     "execution_count": 69,
     "metadata": {},
     "output_type": "execute_result"
    }
   ],
   "source": [
    "def fibonnaci(n):\n",
    "    ### Function to output fibonnaci sequence for any given postive n\n",
    "    \n",
    "    f1 = 0; f2 = 1\n",
    "    if n <= 1:\n",
    "        n = n+1\n",
    "    for i in range(n):\n",
    "        if i <= 1:\n",
    "            print(i, end=\" , \")\n",
    "            answer = i\n",
    "        else:\n",
    "            answer  = f1 + f2\n",
    "            print(answer, end=\" , \")\n",
    "            f1 = f2\n",
    "            f2 = answer \n",
    "    return answer\n",
    "fibonnaci(22)"
   ]
  }
 ],
 "metadata": {
  "kernelspec": {
   "display_name": "Python 3",
   "language": "python",
   "name": "python3"
  },
  "language_info": {
   "codemirror_mode": {
    "name": "ipython",
    "version": 3
   },
   "file_extension": ".py",
   "mimetype": "text/x-python",
   "name": "python",
   "nbconvert_exporter": "python",
   "pygments_lexer": "ipython3",
   "version": "3.6.10"
  }
 },
 "nbformat": 4,
 "nbformat_minor": 4
}
